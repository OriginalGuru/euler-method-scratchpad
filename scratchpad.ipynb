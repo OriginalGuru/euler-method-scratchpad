{
  "cells": [
    {
      "cell_type": "code",
      "execution_count": 75,
      "metadata": {
        "colab": {
          "base_uri": "https://localhost:8080/"
        },
        "id": "lIYdn1woOS1n",
        "outputId": "50d10e99-0849-4815-e36d-bd6cb19379b8"
      },
      "outputs": [
        {
          "output_type": "stream",
          "name": "stdout",
          "text": [
            "list constructed with an explicit index\n",
            "     index          x\n",
            "         0   0.000000\n",
            "         1   0.010000\n",
            "         2   0.020000\n",
            "         3   0.030000\n",
            "         4   0.040000\n",
            "         5   0.050000\n",
            "         6   0.060000\n",
            "         7   0.070000\n",
            "         8   0.080000\n",
            "         9   0.090000\n",
            "list constructed with a throwaway index\n",
            "     index          x\n",
            "         0   0.000000\n",
            "         1   0.010000\n",
            "         2   0.020000\n",
            "         3   0.030000\n",
            "         4   0.040000\n",
            "         5   0.050000\n",
            "         6   0.060000\n",
            "         7   0.070000\n",
            "         8   0.080000\n",
            "         9   0.090000\n",
            "list constructed with list comprehension\n",
            "     index          x\n",
            "         0   0.000000\n",
            "         1   0.010000\n",
            "         2   0.020000\n",
            "         3   0.030000\n",
            "         4   0.040000\n",
            "         5   0.050000\n",
            "         6   0.060000\n",
            "         7   0.070000\n",
            "         8   0.080000\n",
            "         9   0.090000\n"
          ]
        }
      ],
      "source": [
        "# from last time\n",
        "\n",
        "# for loop with the syntax\n",
        "# for {iterator} in {iterable}:\n",
        "#   {do this stuff}\n",
        "# we used the `.append` feature of lists\n",
        "\n",
        "x = [] # initialize as a n empty list\n",
        "inc = 0.01 # some increment\n",
        "for i in range(10):\n",
        "  x.append(inc * i)\n",
        "print('list constructed with an explicit index')\n",
        "print(f\"{'index':>10s} {'x':>10s}\")\n",
        "for i in range(len(x)):\n",
        "  print(f\"{i:>10d} {x[i]:>10.6f}\")\n",
        "\n",
        "# for loop with throwaway index/ dummy index\n",
        "x = [0] # set x with an initial value\n",
        "inc = 0.01 # some increment\n",
        "for _ in range(9):\n",
        "  x.append(x[-1] + inc)\n",
        "\n",
        "# clean up the print with some formatting\n",
        "# f-print literal. more information here: https://docs.python.org/3/tutorial/inputoutput.html\n",
        "print('list constructed with a throwaway index')\n",
        "print(f\"{'index':>10s} {'x':>10s}\")\n",
        "for i in range(len(x)):\n",
        "  print(f\"{i:>10d} {x[i]:>10.6f}\")\n",
        "\n",
        "# list comprehension --> one-line approach to a for loop for variable/list assignment\n",
        "# [{expression to evaluate} for {iterator} in {iterable}]\n",
        "inc = 0.01\n",
        "x = [i * inc for i in range(10)]\n",
        "print('list constructed with list comprehension')\n",
        "print(f\"{'index':>10s} {'x':>10s}\")\n",
        "for i in range(len(x)):\n",
        "  print(f\"{i:>10d} {x[i]:>10.6f}\")"
      ]
    },
    {
      "cell_type": "code",
      "source": [
        "# solving a differential equation with Euler's method\n",
        "\n",
        "# we want to solve x' = alpha x; x(0) = x_0\n",
        "# define all of our variables: alpha, dt, x_0, t_0, n_steps\n",
        "# initialize any lists (e.g. t, x)\n",
        "\n",
        "# define a funcftion call that will give us x, and t\n",
        "def euler_test(alpha, dt, x_0, t_0, n_steps):\n",
        "  \"\"\"\n",
        "  This function calculates the solution to x' + alpha * x = 0 with Euler's method.\n",
        "  \"\"\"\n",
        "  x = [x_0] # initialized x list\n",
        "  t = [t_0] # initialized t list\n",
        "  for _ in range(n_steps):\n",
        "    x_new = x[-1] * ( 1 + alpha * dt ) # update x\n",
        "    t_new = t[-1] + dt # update t\n",
        "    x.append(x_new) # append x\n",
        "    t.append(t_new) # append t\n",
        "  return t, x"
      ],
      "metadata": {
        "id": "uxkAhXHZ9kXI"
      },
      "execution_count": 105,
      "outputs": []
    },
    {
      "cell_type": "code",
      "source": [
        "# import the math module\n",
        "import math\n",
        "\n",
        "# assign variables and call function\n",
        "alpha   = 1\n",
        "dt      = 0.01\n",
        "x_0     = 1\n",
        "t_0     = 1\n",
        "n_steps = 10\n",
        "t, x = euler_test(alpha, dt, x_0, t_0, n_steps)\n",
        "\n",
        "# get the exact values\n",
        "x_exact = [x_0 * math.exp(alpha * (t[i] - t_0)) for i in range(len(t))] # using list comprehension\n",
        "x_error = [x[i] - x_exact[i] for i in range(len(x))] # using list comprehension\n",
        "\n",
        "# print output for inspection of solution\n",
        "print('solution using Euler\\'s method')\n",
        "print(f\"{'t':>10s} {'x':>10s} {'x_exact':>10s} {'x_error':>10s}\")\n",
        "for i in range(len(x)):\n",
        "  print(f\"{t[i]:>10.6f} {x[i]:>10.6f} {x_exact[i]:>10.6f} {x_error[i]:>10.6f}\")"
      ],
      "metadata": {
        "id": "dv3joebNIwB_",
        "outputId": "e75d1302-0a88-413c-9dd6-698ddca6d354",
        "colab": {
          "base_uri": "https://localhost:8080/"
        }
      },
      "execution_count": 110,
      "outputs": [
        {
          "output_type": "stream",
          "name": "stdout",
          "text": [
            "solution using Euler's method\n",
            "         t          x    x_exact    x_error\n",
            "  1.000000   1.000000   1.000000   0.000000\n",
            "  1.010000   1.010000   1.010050  -0.000050\n",
            "  1.020000   1.020100   1.020201  -0.000101\n",
            "  1.030000   1.030301   1.030455  -0.000154\n",
            "  1.040000   1.040604   1.040811  -0.000207\n",
            "  1.050000   1.051010   1.051271  -0.000261\n",
            "  1.060000   1.061520   1.061837  -0.000316\n",
            "  1.070000   1.072135   1.072508  -0.000373\n",
            "  1.080000   1.082857   1.083287  -0.000430\n",
            "  1.090000   1.093685   1.094174  -0.000489\n",
            "  1.100000   1.104622   1.105171  -0.000549\n"
          ]
        }
      ]
    },
    {
      "cell_type": "code",
      "source": [
        "# plot with matplotlib\n",
        "import matplotlib.pyplot as plt\n",
        "\n",
        "plt.figure(figsize=(5,3))\n",
        "plt.semilogy(t, x)\n",
        "plt.semilogy(t, x_exact)\n",
        "plt.xlabel('t')\n",
        "plt.ylabel('x')\n",
        "plt.show()"
      ],
      "metadata": {
        "id": "vjDdfWLkJ7sl",
        "outputId": "469605a9-7aaf-4d7f-f505-c897b6f90e1f",
        "colab": {
          "base_uri": "https://localhost:8080/",
          "height": 311
        }
      },
      "execution_count": 111,
      "outputs": [
        {
          "output_type": "display_data",
          "data": {
            "text/plain": [
              "<Figure size 500x300 with 1 Axes>"
            ],
            "image/png": "[encoded data removed]"
          },
          "metadata": {}
        }
      ]
    },
    {
      "cell_type": "code",
      "source": [],
      "metadata": {
        "id": "udk0EpvHNFvp"
      },
      "execution_count": null,
      "outputs": []
    }
  ],
  "metadata": {
    "colab": {
      "name": "scratchpad",
      "provenance": []
    },
    "kernelspec": {
      "display_name": "Python 3",
      "name": "python3"
    }
  },
  "nbformat": 4,
  "nbformat_minor": 0
}